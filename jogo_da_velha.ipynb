{
 "cells": [
  {
   "cell_type": "markdown",
   "metadata": {},
   "source": [
    "## Jogo da Velha simples para iniciante.\n",
    "\n",
    "#### Primeiro passo foi fazer uma função para imprimir o tabuleiro na tela, como é um projeto simples não foi usado GUI (interface grafica)."
   ]
  },
  {
   "cell_type": "code",
   "execution_count": 1,
   "metadata": {},
   "outputs": [],
   "source": [
    "#clear_output é usado para limpar a tela a cada chamada da função, deixando menos poluído.\n",
    "\n",
    "from IPython.display import clear_output\n",
    "\n",
    "def display_board(board):\n",
    "    \n",
    "    clear_output()\n",
    "    print(' '+board[7]+' | '+board[8]+' | '+board[9])\n",
    "    print('-----------')\n",
    "    print(' '+board[4]+' | '+board[5]+' | '+board[6])\n",
    "    print('-----------')\n",
    "    print(' '+board[1]+' | '+board[2]+' | '+board[3])"
   ]
  },
  {
   "cell_type": "markdown",
   "metadata": {},
   "source": [
    "#### O segundo passo foi criar uma função para receber uma entrada de jogador e atribuir o seu marcador como \"X\" ou \"O\""
   ]
  },
  {
   "cell_type": "code",
   "execution_count": 2,
   "metadata": {},
   "outputs": [],
   "source": [
    "def player_input():\n",
    "    marker = ''\n",
    "    while not (marker == 'X' or marker == 'O'):\n",
    "        marker = input('player 1: você quer ser X ou O ?').upper()\n",
    "        \n",
    "    if marker == 'X':\n",
    "        return ('X','O')\n",
    "    else:\n",
    "        return ('O','X')\n",
    "    "
   ]
  },
  {
   "cell_type": "markdown",
   "metadata": {},
   "source": [
    "#### O terceiro passo foi escrever uma  função que recebe, no objeto da lista do tabuleiro, um marcador ('X' ou 'O') e uma posição desejada (número 1-9) e atribuia-o ao tabuleiro."
   ]
  },
  {
   "cell_type": "code",
   "execution_count": 3,
   "metadata": {},
   "outputs": [],
   "source": [
    "def place_marker(board, marker, position):\n",
    "    board[position] = marker"
   ]
  },
  {
   "cell_type": "markdown",
   "metadata": {},
   "source": [
    "#### O Quarto passo foi escrever uma função que recebe um tabuleiro e uma jogada (X ou O) e em seguida, verifica se essa jogada ganhou."
   ]
  },
  {
   "cell_type": "code",
   "execution_count": 4,
   "metadata": {},
   "outputs": [],
   "source": [
    "def win_check(board, mark):\n",
    "     return ((board[7] == mark and board[8] == mark and board[9] == mark) or # vitória pelo topo\n",
    "    (board[4] == mark and board[5] == mark and board[6] == mark) or # pelo meio\n",
    "    (board[1] == mark and board[2] == mark and board[3] == mark) or # por baixo\n",
    "    (board[7] == mark and board[4] == mark and board[1] == mark) or # pela esquda\n",
    "    (board[8] == mark and board[5] == mark and board[2] == mark) or # pelo meio\n",
    "    (board[9] == mark and board[6] == mark and board[3] == mark) or # pela direita\n",
    "    (board[7] == mark and board[5] == mark and board[3] == mark) or # diagonal\n",
    "    (board[9] == mark and board[5] == mark and board[1] == mark)) # diagonal"
   ]
  },
  {
   "cell_type": "markdown",
   "metadata": {},
   "source": [
    "#### No quinto passo foi criada uma  função que usa o módulo random para decidir aleatoriamente qual jogador é o primeiro.  "
   ]
  },
  {
   "cell_type": "code",
   "execution_count": 5,
   "metadata": {},
   "outputs": [],
   "source": [
    "import random\n",
    "def choose_first():\n",
    "    if random.randint(0,1) == 0:\n",
    "        return 'Player 2'\n",
    "    else:\n",
    "        return 'Player 1'"
   ]
  },
  {
   "cell_type": "markdown",
   "metadata": {},
   "source": [
    "#### No sexto passo foi escrita uma função que verifica se o espaço no tabuleiro está livremente disponível."
   ]
  },
  {
   "cell_type": "code",
   "execution_count": 6,
   "metadata": {},
   "outputs": [],
   "source": [
    "def space_check(board, position):\n",
    "    \n",
    "    return board[position] == ' '"
   ]
  },
  {
   "cell_type": "markdown",
   "metadata": {},
   "source": [
    "#### No sétimo foi criada uma função que verifica se a placa está cheia e retorna um valor booleano. Verdadeiro se cheio, Falso de outra forma."
   ]
  },
  {
   "cell_type": "code",
   "execution_count": 7,
   "metadata": {},
   "outputs": [],
   "source": [
    "def full_board_check(board):\n",
    "    for i in range(1,10):\n",
    "        if space_check(board, i):\n",
    "            return False\n",
    "    return True"
   ]
  },
  {
   "cell_type": "markdown",
   "metadata": {},
   "source": [
    "#### No oitavo passo uma função que solicita a próxima posição de um jogador (como número 1-9) e, em seguida, usa a função do passo 6 para verificar se é uma posição livre. Se for, então retorna a posição para uso posterior."
   ]
  },
  {
   "cell_type": "code",
   "execution_count": 8,
   "metadata": {},
   "outputs": [],
   "source": [
    "def player_choice(board):\n",
    "    position = ' '\n",
    "    while position not in '1 2 3 4 5 6 7 8 9'.split() or not space_check(board, int(position)):\n",
    "        \n",
    "        position = input('Escolha a sua jogada(1-9) ')\n",
    "    \n",
    "    return int(position)"
   ]
  },
  {
   "cell_type": "markdown",
   "metadata": {},
   "source": [
    "#### Passo nono foi criada uma função que pergunta ao jogador se eles querem jogar novamente."
   ]
  },
  {
   "cell_type": "code",
   "execution_count": 9,
   "metadata": {},
   "outputs": [],
   "source": [
    "def replay():\n",
    "    \n",
    "    return input('Quer jogar novamente? \"SIM\" ou \"NÃO\"').lower().startswith('s')"
   ]
  },
  {
   "cell_type": "markdown",
   "metadata": {},
   "source": [
    "#### No décimo e último passo, foi feito a estrutura do jogo usando as funções criadas anteriormente."
   ]
  },
  {
   "cell_type": "code",
   "execution_count": 10,
   "metadata": {},
   "outputs": [
    {
     "name": "stdout",
     "output_type": "stream",
     "text": [
      " X |   |  \n",
      "-----------\n",
      " O | X | O\n",
      "-----------\n",
      " X | O | X\n",
      "Parabens, você venceu!\n",
      "Quer jogar novamente? \"SIM\" ou \"NÃO\"8\n"
     ]
    }
   ],
   "source": [
    "print('Bem vindo ao jogo da velha!')\n",
    "\n",
    "while True:\n",
    "    board =[' ']*10\n",
    "    player1_marker, player2_marker = player_input()\n",
    "    turn = choose_first()\n",
    "    print(turn+'começa!')\n",
    "    \n",
    "    game_on = True\n",
    "    \n",
    "    while game_on:\n",
    "        #vez do jogador 1\n",
    "        if turn == 'Player 1':\n",
    "            display_board(board)\n",
    "            position = player_choice(board)\n",
    "            place_marker(board, player1_marker, position)\n",
    "            \n",
    "        #checa vitoria    \n",
    "        if win_check(board, player1_marker):\n",
    "            display_board(board)\n",
    "            print('Parabens, você venceu!')\n",
    "            game_on = False\n",
    "        else:\n",
    "            if full_board_check(board):\n",
    "                display_board(board)\n",
    "                print('Empate')\n",
    "                break\n",
    "            else:\n",
    "                turn = 'Player 2'\n",
    "        #vez do jogador 2\n",
    "        if turn == 'Player 2':\n",
    "            display_board(board)\n",
    "            position = player_choice(board)\n",
    "            place_marker(board, player2_marker, position)\n",
    "            \n",
    "        #chega a vitoria    \n",
    "        if win_check(board, player2_marker):\n",
    "            display_board(board)\n",
    "            print('Parabens, Jogador 2 venceu!')\n",
    "            game_on = False\n",
    "        else:\n",
    "            if full_board_check(board):\n",
    "                display_board(board)\n",
    "                print('Empate')\n",
    "                break\n",
    "            else:\n",
    "                turn = 'Player 1'\n",
    "                \n",
    "    if not replay():\n",
    "        break"
   ]
  }
 ],
 "metadata": {
  "kernelspec": {
   "display_name": "Python 3",
   "language": "python",
   "name": "python3"
  },
  "language_info": {
   "codemirror_mode": {
    "name": "ipython",
    "version": 3
   },
   "file_extension": ".py",
   "mimetype": "text/x-python",
   "name": "python",
   "nbconvert_exporter": "python",
   "pygments_lexer": "ipython3",
   "version": "3.8.5"
  }
 },
 "nbformat": 4,
 "nbformat_minor": 4
}
